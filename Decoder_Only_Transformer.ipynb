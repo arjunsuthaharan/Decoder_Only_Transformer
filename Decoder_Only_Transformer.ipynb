{
 "cells": [
  {
   "cell_type": "code",
   "execution_count": 1,
   "id": "58e8c56a",
   "metadata": {},
   "outputs": [],
   "source": [
    "import torch\n",
    "import torch.nn as nn\n",
    "import torch.nn.functional as F\n",
    "\n",
    "from torch.optim import Adam\n",
    "from torch.utils.data import TensorDataset, DataLoader\n",
    "\n",
    "import lightning as L"
   ]
  },
  {
   "cell_type": "code",
   "execution_count": 2,
   "id": "78a0e638",
   "metadata": {},
   "outputs": [],
   "source": [
    "token_to_id = { 'what' : 0, 'is' : 1, 'hockey' : 2, 'NHL' : 3, '<EOS>' : 4,}"
   ]
  },
  {
   "cell_type": "code",
   "execution_count": 3,
   "id": "a2f09b3c",
   "metadata": {},
   "outputs": [],
   "source": [
    "id_to_token = dict(map(reversed, token_to_id.items()))"
   ]
  },
  {
   "cell_type": "code",
   "execution_count": 4,
   "id": "d1a67bc3",
   "metadata": {},
   "outputs": [],
   "source": [
    "inputs = torch.tensor([[token_to_id[\"what\"],\n",
    "                       token_to_id[\"is\"],\n",
    "                       token_to_id[\"hockey\"],\n",
    "                       token_to_id[\"<EOS>\"],\n",
    "                       token_to_id[\"NHL\"],]])"
   ]
  },
  {
   "cell_type": "code",
   "execution_count": 5,
   "id": "342177be",
   "metadata": {},
   "outputs": [],
   "source": [
    "labels = torch.tensor([[token_to_id[\"is\"],\n",
    "                       token_to_id[\"what\"],\n",
    "                       token_to_id[\"<EOS>\"],\n",
    "                       token_to_id[\"NHL\"],\n",
    "                       token_to_id[\"<EOS>\"],]])"
   ]
  },
  {
   "cell_type": "code",
   "execution_count": 6,
   "id": "96ca7da7",
   "metadata": {},
   "outputs": [],
   "source": [
    "dataset = TensorDataset(inputs,labels)\n",
    "dataloader = DataLoader(dataset)"
   ]
  },
  {
   "cell_type": "code",
   "execution_count": 7,
   "id": "4d8bd935",
   "metadata": {},
   "outputs": [],
   "source": [
    "class PositionEncoding(nn.Module):\n",
    "    def __init__(self, d_model=2, max_len=6):\n",
    "        super().__init__()\n",
    "        \n",
    "        pe = torch.zeros(max_len, d_model)\n",
    "        \n",
    "        position = torch.arange(start=0, end=max_len, step=1).float().unsqueeze(1)\n",
    "        embedding_index = torch.arange(start=0, end=d_model, step = 2).float()\n",
    "        \n",
    "        div_term = 1/torch.tensor(10000.0)**(embedding_index/d_model)\n",
    "        \n",
    "        pe[:,  0::2] = torch.sin(position * div_term)\n",
    "        pe[:, 1::2] = torch.cos(position * div_term)\n",
    "        \n",
    "        self.register_buffer('pe',pe)\n",
    "        \n",
    "    def forward(self, word_embeddings):\n",
    "        \n",
    "        return word_embeddings + self.pe[:word_embeddings.size(0), :]"
   ]
  },
  {
   "cell_type": "code",
   "execution_count": null,
   "id": "6337626d",
   "metadata": {},
   "outputs": [],
   "source": []
  }
 ],
 "metadata": {
  "kernelspec": {
   "display_name": "Python 3 (ipykernel)",
   "language": "python",
   "name": "python3"
  },
  "language_info": {
   "codemirror_mode": {
    "name": "ipython",
    "version": 3
   },
   "file_extension": ".py",
   "mimetype": "text/x-python",
   "name": "python",
   "nbconvert_exporter": "python",
   "pygments_lexer": "ipython3",
   "version": "3.10.9"
  }
 },
 "nbformat": 4,
 "nbformat_minor": 5
}

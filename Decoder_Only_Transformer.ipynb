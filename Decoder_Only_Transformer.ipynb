{
 "cells": [
  {
   "cell_type": "code",
   "execution_count": 1,
   "id": "58e8c56a",
   "metadata": {},
   "outputs": [],
   "source": [
    "import torch\n",
    "import torch.nn as nn\n",
    "import torch.nn.functional as F\n",
    "\n",
    "from torch.optim import Adam\n",
    "from torch.utils.data import TensorDataset, DataLoader\n",
    "\n",
    "import lightning as L"
   ]
  },
  {
   "cell_type": "code",
   "execution_count": 2,
   "id": "78a0e638",
   "metadata": {},
   "outputs": [],
   "source": [
    "token_to_id = { 'what' : 0, 'is' : 1, 'hockey' : 2, 'NHL' : 3, '<EOS>' : 4,}"
   ]
  },
  {
   "cell_type": "code",
   "execution_count": 3,
   "id": "a2f09b3c",
   "metadata": {},
   "outputs": [],
   "source": [
    "id_to_token = dict(map(reversed, token_to_id.items()))"
   ]
  },
  {
   "cell_type": "code",
   "execution_count": 4,
   "id": "d1a67bc3",
   "metadata": {},
   "outputs": [],
   "source": [
    "inputs = torch.tensor([[token_to_id[\"what\"],\n",
    "                       token_to_id[\"is\"],\n",
    "                       token_to_id[\"hockey\"],\n",
    "                       token_to_id[\"<EOS>\"],\n",
    "                       token_to_id[\"NHL\"],]])"
   ]
  },
  {
   "cell_type": "code",
   "execution_count": 5,
   "id": "342177be",
   "metadata": {},
   "outputs": [],
   "source": [
    "labels = torch.tensor([[token_to_id[\"is\"],\n",
    "                       token_to_id[\"what\"],\n",
    "                       token_to_id[\"<EOS>\"],\n",
    "                       token_to_id[\"NHL\"],\n",
    "                       token_to_id[\"<EOS>\"],]])"
   ]
  },
  {
   "cell_type": "code",
   "execution_count": 6,
   "id": "96ca7da7",
   "metadata": {},
   "outputs": [],
   "source": [
    "dataset = TensorDataset(inputs,labels)\n",
    "dataloader = DataLoader(dataset)"
   ]
  },
  {
   "cell_type": "code",
   "execution_count": 7,
   "id": "4d8bd935",
   "metadata": {},
   "outputs": [],
   "source": [
    "class PositionEncoding(nn.Module):\n",
    "    def __init__(self, d_model=2, max_len=6):\n",
    "        super().__init__()\n",
    "        \n",
    "        pe = torch.zeros(max_len, d_model)\n",
    "        \n",
    "        position = torch.arange(start=0, end=max_len, step=1).float().unsqueeze(1)\n",
    "        embedding_index = torch.arange(start=0, end=d_model, step = 2).float()\n",
    "        \n",
    "        div_term = 1/torch.tensor(10000.0)**(embedding_index/d_model)\n",
    "        \n",
    "        pe[:,  0::2] = torch.sin(position * div_term)\n",
    "        pe[:, 1::2] = torch.cos(position * div_term)\n",
    "        \n",
    "        self.register_buffer('pe',pe)\n",
    "        \n",
    "    def forward(self, word_embeddings):\n",
    "        \n",
    "        return word_embeddings + self.pe[:word_embeddings.size(0), :]"
   ]
  },
  {
   "cell_type": "code",
   "execution_count": 8,
   "id": "6337626d",
   "metadata": {},
   "outputs": [],
   "source": [
    "class Attention(nn.Module):\n",
    "    \n",
    "    def __init__(self, d_model=2):\n",
    "        \n",
    "        super().__init__()\n",
    "        \n",
    "        self.d_model = d_model\n",
    "        \n",
    "        self.W_q = nn.Linear(in_features=d_model, out_features=d_model, bias = False)\n",
    "        self.W_k = nn.Linear(in_features=d_model, out_features=d_model, bias = False)\n",
    "        self.W_v = nn.Linear(in_features=d_model, out_features=d_model, bias = False)\n",
    "        \n",
    "        self.row_dim = 0\n",
    "        self.col_dim = 1\n",
    "        \n",
    "    \n",
    "    def forward(self, encodings_for_q, encodings_for_k, encodings_for_v, mask=None):\n",
    "        \n",
    "        q = self.W_q(encodings_for_q)\n",
    "        k = self.W_k(encodings_for_k)\n",
    "        v = self.W_v(encodings_for_v)\n",
    "        \n",
    "        sims = torch.matmul(q, k.transpose(dim0=self.row_dim, dim1=self.col_dim))\n",
    "        \n",
    "        scaled_sims = sims / torch.tensor(k.size(self.col_dim)**0.5)\n",
    "        \n",
    "        if mask is not None:\n",
    "            scaled_sims = scaled_sims.masked_fill(mask=mask, value=-1e9)\n",
    "            \n",
    "        attention_percents = F.softmax(scaled_sims, dim=self.col_dim)\n",
    "        \n",
    "        attention_scores = torch.matmul(attention_percents, v)\n",
    "        \n",
    "        return attention_scores\n",
    "        "
   ]
  },
  {
   "cell_type": "code",
   "execution_count": 9,
   "id": "b34fbf87",
   "metadata": {},
   "outputs": [],
   "source": [
    "class DecoderOnlyTransformer(L.LightningModule):\n",
    "    \n",
    "    def __init__(self, num_tokens=4, d_model=2, max_len=6):\n",
    "        \n",
    "        super().__init__()\n",
    "        \n",
    "        self.we = nn.Embedding(num_embeddings=num_tokens, embedding_dim=d_model)\n",
    "        \n",
    "        self.pe = PositionEncoding(d_model=d_model, max_len=max_len)\n",
    "        \n",
    "        self.self_attention = Attention(d_model=d_model)\n",
    "        \n",
    "        self.fc_layer = nn.Linear(in_features=d_model, out_features=num_tokens)\n",
    "        \n",
    "        self.loss = nn.CrossEntropyLoss()\n",
    "        \n",
    "    def forward(self, token_ids):\n",
    "        word_embeddings = self.we(token_ids)\n",
    "        position_encoded = self.pe(word_embeddings)\n",
    "        \n",
    "        mask =  torch.tril(torch.ones((token_ids.size(dim=0), token_ids.size(dim=0))))\n",
    "        mask = mask == 0\n",
    "        \n",
    "        self_attention_values = self.self_attention(position_encoded, position_encoded, position_encoded, mask=mask)\n",
    "        \n",
    "        residual_connection_values = position_encoded + self_attention_values\n",
    "        \n",
    "        fc_layer_output = self.fc_layer(residual_connection_values)\n",
    "        \n",
    "        return fc_layer_output\n",
    "    \n",
    "    def configure_optimizers(self):\n",
    "        return Adam(self.parameters(), lr=0.1)\n",
    "    \n",
    "    def training_step(self, batch, batch_idx):\n",
    "        input_tokens, labels = batch\n",
    "        output = self.forward(input_tokens[0])\n",
    "        loss = self.loss(output, labels[0])\n",
    "        \n",
    "        return loss\n",
    "        "
   ]
  },
  {
   "cell_type": "code",
   "execution_count": 10,
   "id": "aae7b309",
   "metadata": {},
   "outputs": [
    {
     "name": "stdout",
     "output_type": "stream",
     "text": [
      "Predicted Tokens: \n",
      "\n",
      "\t what\n",
      "\t is\n",
      "Predicted Tokens: \n",
      "\n",
      "\t what\n",
      "\t is\n",
      "\t what\n"
     ]
    }
   ],
   "source": [
    "model = DecoderOnlyTransformer(num_tokens=len(token_to_id), d_model=2,  max_len=6)\n",
    "\n",
    "model_input = torch.tensor([token_to_id[\"what\"],\n",
    "                       token_to_id[\"is\"],\n",
    "                       token_to_id[\"hockey\"],\n",
    "                       token_to_id[\"<EOS>\"]])\n",
    "\n",
    "input_length = model_input.size(dim=0)\n",
    "\n",
    "predictions = model(model_input)\n",
    "predicted_id = torch.tensor([torch.argmax(predictions[-1:])])\n",
    "predicted_ids = predicted_id\n",
    "\n",
    "max_length = 6\n",
    "\n",
    "for i in range(input_length, max_length):\n",
    "    if(predicted_id == token_to_id[\"<EOS>\"]):\n",
    "        break\n",
    "        \n",
    "    model_input = torch.cat((model_input, predicted_id))\n",
    "    \n",
    "    predictions = model(model_input)\n",
    "    predicted_id = torch.tensor([torch.argmax(predictions[-1:])])\n",
    "    predicted_ids = torch.cat((predicted_ids, predicted_id))\n",
    "    \n",
    "\n",
    "    print(\"Predicted Tokens: \\n\")\n",
    "    \n",
    "    for id in predicted_ids:\n",
    "        print(\"\\t\", id_to_token[id.item()])"
   ]
  },
  {
   "cell_type": "code",
   "execution_count": 11,
   "id": "7f47e6ed",
   "metadata": {},
   "outputs": [
    {
     "name": "stderr",
     "output_type": "stream",
     "text": [
      "GPU available: False, used: False\n",
      "TPU available: False, using: 0 TPU cores\n",
      "HPU available: False, using: 0 HPUs\n",
      "Missing logger folder: C:\\Users\\Arjun\\Programming\\Python Projects\\Untitled Folder\\lightning_logs\n",
      "\n",
      "  | Name           | Type             | Params | Mode \n",
      "------------------------------------------------------------\n",
      "0 | we             | Embedding        | 10     | train\n",
      "1 | pe             | PositionEncoding | 0      | train\n",
      "2 | self_attention | Attention        | 12     | train\n",
      "3 | fc_layer       | Linear           | 15     | train\n",
      "4 | loss           | CrossEntropyLoss | 0      | train\n",
      "------------------------------------------------------------\n",
      "37        Trainable params\n",
      "0         Non-trainable params\n",
      "37        Total params\n",
      "0.000     Total estimated model params size (MB)\n",
      "C:\\Users\\Arjun\\AppData\\Roaming\\Python\\Python310\\site-packages\\lightning\\pytorch\\trainer\\connectors\\data_connector.py:424: The 'train_dataloader' does not have many workers which may be a bottleneck. Consider increasing the value of the `num_workers` argument` to `num_workers=15` in the `DataLoader` to improve performance.\n",
      "C:\\Users\\Arjun\\AppData\\Roaming\\Python\\Python310\\site-packages\\lightning\\pytorch\\loops\\fit_loop.py:298: The number of training batches (1) is smaller than the logging interval Trainer(log_every_n_steps=50). Set a lower value for log_every_n_steps if you want to see logs for the training epoch.\n"
     ]
    },
    {
     "data": {
      "application/vnd.jupyter.widget-view+json": {
       "model_id": "7ff63a50ce6b4f328f7029356a5dbefb",
       "version_major": 2,
       "version_minor": 0
      },
      "text/plain": [
       "Training: |          | 0/? [00:00<?, ?it/s]"
      ]
     },
     "metadata": {},
     "output_type": "display_data"
    },
    {
     "name": "stderr",
     "output_type": "stream",
     "text": [
      "`Trainer.fit` stopped: `max_epochs=30` reached.\n"
     ]
    }
   ],
   "source": [
    "trainer = L.Trainer(max_epochs=30)\n",
    "trainer.fit(model, train_dataloaders=dataloader)"
   ]
  },
  {
   "cell_type": "code",
   "execution_count": 13,
   "id": "d1d9e231",
   "metadata": {},
   "outputs": [
    {
     "name": "stdout",
     "output_type": "stream",
     "text": [
      "Predicted Tokens: \n",
      "\n",
      "\t hockey\n",
      "\t is\n",
      "Predicted Tokens: \n",
      "\n",
      "\t hockey\n",
      "\t is\n",
      "\t hockey\n"
     ]
    }
   ],
   "source": [
    "model = DecoderOnlyTransformer(num_tokens=len(token_to_id), d_model=2,  max_len=6)\n",
    "\n",
    "model_input = torch.tensor([token_to_id[\"what\"],\n",
    "                       token_to_id[\"is\"],\n",
    "                       token_to_id[\"hockey\"],\n",
    "                       token_to_id[\"<EOS>\"]])\n",
    "\n",
    "input_length = model_input.size(dim=0)\n",
    "\n",
    "predictions = model(model_input)\n",
    "predicted_id = torch.tensor([torch.argmax(predictions[-1:])])\n",
    "predicted_ids = predicted_id\n",
    "\n",
    "max_length = 6\n",
    "\n",
    "for i in range(input_length, max_length):\n",
    "    if(predicted_id == token_to_id[\"<EOS>\"]):\n",
    "        break\n",
    "        \n",
    "    model_input = torch.cat((model_input, predicted_id))\n",
    "    \n",
    "    predictions = model(model_input)\n",
    "    predicted_id = torch.tensor([torch.argmax(predictions[-1:])])\n",
    "    predicted_ids = torch.cat((predicted_ids, predicted_id))\n",
    "    \n",
    "\n",
    "    print(\"Predicted Tokens: \\n\")\n",
    "    \n",
    "    for id in predicted_ids:\n",
    "        print(\"\\t\", id_to_token[id.item()])"
   ]
  }
 ],
 "metadata": {
  "kernelspec": {
   "display_name": "Python 3 (ipykernel)",
   "language": "python",
   "name": "python3"
  },
  "language_info": {
   "codemirror_mode": {
    "name": "ipython",
    "version": 3
   },
   "file_extension": ".py",
   "mimetype": "text/x-python",
   "name": "python",
   "nbconvert_exporter": "python",
   "pygments_lexer": "ipython3",
   "version": "3.10.9"
  }
 },
 "nbformat": 4,
 "nbformat_minor": 5
}
